{
  "nbformat": 4,
  "nbformat_minor": 0,
  "metadata": {
    "colab": {
      "name": "Untitled11.ipynb",
      "provenance": []
    },
    "kernelspec": {
      "name": "python3",
      "display_name": "Python 3"
    },
    "language_info": {
      "name": "python"
    }
  },
  "cells": [
    {
      "cell_type": "markdown",
      "metadata": {
        "id": "-Gwx8tko680-"
      },
      "source": [
        "**Data Science Regression Project: Insurance Premium Prediction**\n"
      ]
    },
    {
      "cell_type": "markdown",
      "metadata": {
        "id": "uMjSS4Fs7MRn"
      },
      "source": [
        "Download Dataset from- https://www.kaggle.com/noordeen/insurance-premium-prediction?select=insurance.csv"
      ]
    },
    {
      "cell_type": "code",
      "metadata": {
        "id": "TfSXLVfW7r9V"
      },
      "source": [
        "# importing libraries\n",
        "import pandas as pd\n",
        "import numpy as np\n",
        "import seaborn as sns\n",
        "from matplotlib import pyplot as plt\n",
        "%matplotlib inline\n",
        "import matplotlib \n",
        "matplotlib.rcParams[\"figure.figsize\"] = (20,10)"
      ],
      "execution_count": 23,
      "outputs": []
    },
    {
      "cell_type": "code",
      "metadata": {
        "colab": {
          "base_uri": "https://localhost:8080/",
          "height": 206
        },
        "id": "kq63B_Rd8FXf",
        "outputId": "67d5260f-e95d-4371-dbf0-b013d32d2ee6"
      },
      "source": [
        "# loading the data into dataframe\n",
        "dataframe1= pd.read_csv(\"/content/insurance.csv\")\n",
        "dataframe1.head()"
      ],
      "execution_count": 2,
      "outputs": [
        {
          "output_type": "execute_result",
          "data": {
            "text/html": [
              "<div>\n",
              "<style scoped>\n",
              "    .dataframe tbody tr th:only-of-type {\n",
              "        vertical-align: middle;\n",
              "    }\n",
              "\n",
              "    .dataframe tbody tr th {\n",
              "        vertical-align: top;\n",
              "    }\n",
              "\n",
              "    .dataframe thead th {\n",
              "        text-align: right;\n",
              "    }\n",
              "</style>\n",
              "<table border=\"1\" class=\"dataframe\">\n",
              "  <thead>\n",
              "    <tr style=\"text-align: right;\">\n",
              "      <th></th>\n",
              "      <th>age</th>\n",
              "      <th>sex</th>\n",
              "      <th>bmi</th>\n",
              "      <th>children</th>\n",
              "      <th>smoker</th>\n",
              "      <th>region</th>\n",
              "      <th>expenses</th>\n",
              "    </tr>\n",
              "  </thead>\n",
              "  <tbody>\n",
              "    <tr>\n",
              "      <th>0</th>\n",
              "      <td>19</td>\n",
              "      <td>female</td>\n",
              "      <td>27.9</td>\n",
              "      <td>0</td>\n",
              "      <td>yes</td>\n",
              "      <td>southwest</td>\n",
              "      <td>16884.92</td>\n",
              "    </tr>\n",
              "    <tr>\n",
              "      <th>1</th>\n",
              "      <td>18</td>\n",
              "      <td>male</td>\n",
              "      <td>33.8</td>\n",
              "      <td>1</td>\n",
              "      <td>no</td>\n",
              "      <td>southeast</td>\n",
              "      <td>1725.55</td>\n",
              "    </tr>\n",
              "    <tr>\n",
              "      <th>2</th>\n",
              "      <td>28</td>\n",
              "      <td>male</td>\n",
              "      <td>33.0</td>\n",
              "      <td>3</td>\n",
              "      <td>no</td>\n",
              "      <td>southeast</td>\n",
              "      <td>4449.46</td>\n",
              "    </tr>\n",
              "    <tr>\n",
              "      <th>3</th>\n",
              "      <td>33</td>\n",
              "      <td>male</td>\n",
              "      <td>22.7</td>\n",
              "      <td>0</td>\n",
              "      <td>no</td>\n",
              "      <td>northwest</td>\n",
              "      <td>21984.47</td>\n",
              "    </tr>\n",
              "    <tr>\n",
              "      <th>4</th>\n",
              "      <td>32</td>\n",
              "      <td>male</td>\n",
              "      <td>28.9</td>\n",
              "      <td>0</td>\n",
              "      <td>no</td>\n",
              "      <td>northwest</td>\n",
              "      <td>3866.86</td>\n",
              "    </tr>\n",
              "  </tbody>\n",
              "</table>\n",
              "</div>"
            ],
            "text/plain": [
              "   age     sex   bmi  children smoker     region  expenses\n",
              "0   19  female  27.9         0    yes  southwest  16884.92\n",
              "1   18    male  33.8         1     no  southeast   1725.55\n",
              "2   28    male  33.0         3     no  southeast   4449.46\n",
              "3   33    male  22.7         0     no  northwest  21984.47\n",
              "4   32    male  28.9         0     no  northwest   3866.86"
            ]
          },
          "metadata": {},
          "execution_count": 2
        }
      ]
    },
    {
      "cell_type": "code",
      "metadata": {
        "colab": {
          "base_uri": "https://localhost:8080/"
        },
        "id": "KtjZ1RG_8pnx",
        "outputId": "56646f47-0b07-44a5-975f-8ca22893c4a5"
      },
      "source": [
        "# to know the dimensions of the dataframe\n",
        "dataframe1.shape"
      ],
      "execution_count": 4,
      "outputs": [
        {
          "output_type": "execute_result",
          "data": {
            "text/plain": [
              "(1338, 7)"
            ]
          },
          "metadata": {},
          "execution_count": 4
        }
      ]
    },
    {
      "cell_type": "code",
      "metadata": {
        "colab": {
          "base_uri": "https://localhost:8080/"
        },
        "id": "uEY5yuza88Uc",
        "outputId": "9139981e-2f55-4060-9280-4ff6283517e8"
      },
      "source": [
        "dataframe1.columns"
      ],
      "execution_count": 5,
      "outputs": [
        {
          "output_type": "execute_result",
          "data": {
            "text/plain": [
              "Index(['age', 'sex', 'bmi', 'children', 'smoker', 'region', 'expenses'], dtype='object')"
            ]
          },
          "metadata": {},
          "execution_count": 5
        }
      ]
    },
    {
      "cell_type": "code",
      "metadata": {
        "colab": {
          "base_uri": "https://localhost:8080/"
        },
        "id": "TJxSWMYZ9BUS",
        "outputId": "e3b2a31a-3a3c-4d85-debb-8a3b1f48f172"
      },
      "source": [
        "dataframe1['age'].unique()"
      ],
      "execution_count": 6,
      "outputs": [
        {
          "output_type": "execute_result",
          "data": {
            "text/plain": [
              "array([19, 18, 28, 33, 32, 31, 46, 37, 60, 25, 62, 23, 56, 27, 52, 30, 34,\n",
              "       59, 63, 55, 22, 26, 35, 24, 41, 38, 36, 21, 48, 40, 58, 53, 43, 64,\n",
              "       20, 61, 44, 57, 29, 45, 54, 49, 47, 51, 42, 50, 39])"
            ]
          },
          "metadata": {},
          "execution_count": 6
        }
      ]
    },
    {
      "cell_type": "code",
      "metadata": {
        "colab": {
          "base_uri": "https://localhost:8080/"
        },
        "id": "ysBwzXPJ9STb",
        "outputId": "36490bc0-4e39-4836-b6c4-396856c5c4c7"
      },
      "source": [
        "dataframe1['bmi'].unique()"
      ],
      "execution_count": 7,
      "outputs": [
        {
          "output_type": "execute_result",
          "data": {
            "text/plain": [
              "array([27.9, 33.8, 33. , 22.7, 28.9, 25.7, 33.4, 27.7, 29.8, 25.8, 26.2,\n",
              "       26.3, 34.4, 39.8, 42.1, 24.6, 30.8, 23.8, 40.3, 35.3, 36. , 32.4,\n",
              "       34.1, 31.9, 28. , 23.1, 32.8, 17.4, 36.3, 35.6, 28.6, 28.3, 36.4,\n",
              "       20.4, 20.8, 36.7, 39.9, 26.6, 36.6, 21.8, 37.1, 37.3, 38.7, 34.8,\n",
              "       24.5, 35.2, 33.6, 28.7, 37. , 31.8, 31.7, 22.9, 27.4, 33.7, 24.7,\n",
              "       25.9, 22.4, 39.1, 36.2, 24. , 24.8, 28.5, 28.1, 32. , 34. , 29.6,\n",
              "       35.5, 26.9, 38.3, 37.6, 41.2, 31.2, 27.2, 27. , 39.5, 31.3, 20. ,\n",
              "       19.3, 31.6, 25.5, 30.1, 29.9, 27.5, 28.4, 30.9, 35.1, 29.7, 35.7,\n",
              "       32.2, 49.1, 23.4, 29. , 31.4, 33.9, 28.8, 37.4, 17.8, 34.7, 26.5,\n",
              "       22. , 35.9, 25.6, 25.2, 32.5, 25.3, 38.8, 30.5, 37.7, 24.1, 24.4,\n",
              "       27.8, 36.9, 39.6, 28.2, 33.2, 18.9, 41.5, 30.3, 16. , 33.3, 29.2,\n",
              "       26.4, 30.7, 41.9, 32.1, 30.6, 18.1, 39.3, 36.1, 22.3, 26.7, 23.2,\n",
              "       38.1, 22.2, 38.4, 29.1, 22.1, 26.8, 30. , 20.9, 17.3, 34.2, 25.4,\n",
              "       40.2, 24.3, 42.4, 19.8, 30.2, 29.4, 27.6, 20.6, 21.6, 40.6, 48.1,\n",
              "       36.8, 45.5, 23. , 22.6, 37.5, 38. , 34.9, 33.1, 40.9, 36.5, 34.5,\n",
              "       32.3, 29.3, 35.8, 43.9, 21.7, 21.9, 25. , 30.4, 21.1, 32.9, 24.9,\n",
              "       31.5, 18. , 43.3, 19.9, 31. , 38.2, 47.5, 23.6, 17.5, 20.2, 17.2,\n",
              "       23.9, 39.2, 27.3, 16.8, 46.8, 29.5, 32.7, 33.5, 43. , 38.6, 46.5,\n",
              "       25.1, 32.6, 41.3, 34.3, 31.1, 21.5, 43.4, 26. , 44.2, 26.1, 39.4,\n",
              "       40.5, 38.9, 47.4, 35.4, 46.7, 46.2, 21.4, 44.8, 43.1, 23.5, 45.4,\n",
              "       23.7, 20.7, 19.6, 37.8, 19. , 21.3, 42.5, 39. , 39.7, 35. , 42.7,\n",
              "       40.8, 20.3, 18.5, 41.7, 44.7, 40.7, 27.1, 37.9, 22.8, 34.6, 19.5,\n",
              "       41.1, 22.5, 41.8, 42.2, 41.4, 42.9, 21. , 24.2, 17.7, 50.4, 47.6,\n",
              "       43.7, 44. , 20.1, 37.2, 46.1, 18.3, 40. , 20.5, 23.3, 19.2, 45.3,\n",
              "       18.7, 52.6, 47.7, 19.1, 42.8, 18.6, 45.9, 44.9, 40.4, 17.9, 53.1])"
            ]
          },
          "metadata": {},
          "execution_count": 7
        }
      ]
    },
    {
      "cell_type": "code",
      "metadata": {
        "colab": {
          "base_uri": "https://localhost:8080/"
        },
        "id": "1LF_VpGd9W9s",
        "outputId": "690c3354-64f4-432e-892d-10e3198dfd3b"
      },
      "source": [
        "dataframe1['children'].unique()"
      ],
      "execution_count": 8,
      "outputs": [
        {
          "output_type": "execute_result",
          "data": {
            "text/plain": [
              "array([0, 1, 3, 2, 5, 4])"
            ]
          },
          "metadata": {},
          "execution_count": 8
        }
      ]
    },
    {
      "cell_type": "code",
      "metadata": {
        "colab": {
          "base_uri": "https://localhost:8080/"
        },
        "id": "U5QX1uQU9bSM",
        "outputId": "04ae6585-ef0e-40f6-eae5-066c9268e233"
      },
      "source": [
        "dataframe1['region'].unique()"
      ],
      "execution_count": 9,
      "outputs": [
        {
          "output_type": "execute_result",
          "data": {
            "text/plain": [
              "array(['southwest', 'southeast', 'northwest', 'northeast'], dtype=object)"
            ]
          },
          "metadata": {},
          "execution_count": 9
        }
      ]
    },
    {
      "cell_type": "code",
      "metadata": {
        "colab": {
          "base_uri": "https://localhost:8080/"
        },
        "id": "iX1drv6u9hby",
        "outputId": "a4dcf758-2364-463a-c555-15074e8f1b50"
      },
      "source": [
        "dataframe1['expenses'].unique()"
      ],
      "execution_count": 10,
      "outputs": [
        {
          "output_type": "execute_result",
          "data": {
            "text/plain": [
              "array([16884.92,  1725.55,  4449.46, ...,  1629.83,  2007.95, 29141.36])"
            ]
          },
          "metadata": {},
          "execution_count": 10
        }
      ]
    },
    {
      "cell_type": "code",
      "metadata": {
        "colab": {
          "base_uri": "https://localhost:8080/"
        },
        "id": "GtwnMElx9mqX",
        "outputId": "cad0fc20-a201-4ecc-e80c-586035a6fcdf"
      },
      "source": [
        "dataframe1['sex'].unique()"
      ],
      "execution_count": 11,
      "outputs": [
        {
          "output_type": "execute_result",
          "data": {
            "text/plain": [
              "array(['female', 'male'], dtype=object)"
            ]
          },
          "metadata": {},
          "execution_count": 11
        }
      ]
    },
    {
      "cell_type": "markdown",
      "metadata": {
        "id": "tWWiOUnm_BQ8"
      },
      "source": [
        "**Data Cleaning- Handling null values**"
      ]
    },
    {
      "cell_type": "code",
      "metadata": {
        "colab": {
          "base_uri": "https://localhost:8080/"
        },
        "id": "uw2iJp6J_Kqj",
        "outputId": "7ed90873-8fc0-4913-a531-bd0511c281dc"
      },
      "source": [
        "dataframe1.isnull().sum()"
      ],
      "execution_count": 13,
      "outputs": [
        {
          "output_type": "execute_result",
          "data": {
            "text/plain": [
              "age         0\n",
              "sex         0\n",
              "bmi         0\n",
              "children    0\n",
              "smoker      0\n",
              "region      0\n",
              "expenses    0\n",
              "dtype: int64"
            ]
          },
          "metadata": {},
          "execution_count": 13
        }
      ]
    },
    {
      "cell_type": "markdown",
      "metadata": {
        "id": "zH6gF3XU_WuI"
      },
      "source": [
        "There are no null values in the dataset"
      ]
    },
    {
      "cell_type": "markdown",
      "metadata": {
        "id": "vyoDEyqo_mkH"
      },
      "source": [
        "**Finding Numeric and Categorical columns**"
      ]
    },
    {
      "cell_type": "code",
      "metadata": {
        "colab": {
          "base_uri": "https://localhost:8080/"
        },
        "id": "HzobkxhI_5Qw",
        "outputId": "496fbb0b-eaea-4a1f-c3a6-6bdc80987589"
      },
      "source": [
        "col         = list(dataframe1)\n",
        "numeric_col     = ['age', 'bmi', 'children', 'expenses']\n",
        "categorical_col = [i for i in col if i not in numeric_col ]\n",
        "\n",
        "print('\\nNumeric columns: ')\n",
        "print(numeric_col)\n",
        "print('\\nCategorical columns: ')\n",
        "print(categorical_col)"
      ],
      "execution_count": 14,
      "outputs": [
        {
          "output_type": "stream",
          "name": "stdout",
          "text": [
            "\n",
            "Numeric columns: \n",
            "['age', 'bmi', 'children', 'expenses']\n",
            "\n",
            "Categorical columns: \n",
            "['sex', 'smoker', 'region']\n"
          ]
        }
      ]
    },
    {
      "cell_type": "markdown",
      "metadata": {
        "id": "oA-wWSXiB4nI"
      },
      "source": [
        "**Checking how many duplicated data is present and then removing that.**"
      ]
    },
    {
      "cell_type": "code",
      "metadata": {
        "colab": {
          "base_uri": "https://localhost:8080/"
        },
        "id": "SMAL2yGECFfk",
        "outputId": "a8fc6258-482e-4200-e2ee-69d64f8a2654"
      },
      "source": [
        "print(dataframe1.duplicated().sum())\n",
        "dataframe1 = dataframe1.drop_duplicates()\n",
        "print('After removing duplicates new dimensions are- ')\n",
        "print(dataframe1.shape)"
      ],
      "execution_count": 19,
      "outputs": [
        {
          "output_type": "stream",
          "name": "stdout",
          "text": [
            "1\n",
            "After removing duplicates new dimensions are- \n",
            "(1337, 7)\n"
          ]
        }
      ]
    },
    {
      "cell_type": "code",
      "metadata": {
        "colab": {
          "base_uri": "https://localhost:8080/"
        },
        "id": "3EzE-MmPAa8S",
        "outputId": "c66f2c00-65b2-4ec9-e894-e3ded0d2fce6"
      },
      "source": [
        "#to check how many smokers are there\n",
        "dataframe1.smoker.value_counts()"
      ],
      "execution_count": 21,
      "outputs": [
        {
          "output_type": "execute_result",
          "data": {
            "text/plain": [
              "no     1063\n",
              "yes     274\n",
              "Name: smoker, dtype: int64"
            ]
          },
          "metadata": {},
          "execution_count": 21
        }
      ]
    },
    {
      "cell_type": "markdown",
      "metadata": {
        "id": "pi7HBQf2Aq6R"
      },
      "source": [
        "There are 274 smokers and 1063 are persons who do not smoke. "
      ]
    },
    {
      "cell_type": "markdown",
      "metadata": {
        "id": "k37hWZQiA5Wy"
      },
      "source": [
        "**Change the column name 'Sex' to 'Gender'**"
      ]
    },
    {
      "cell_type": "code",
      "metadata": {
        "id": "1aG30rF0A9CJ"
      },
      "source": [
        "dataframe1.rename(columns={'sex':'gender'},inplace=True,level=None)"
      ],
      "execution_count": 16,
      "outputs": []
    },
    {
      "cell_type": "code",
      "metadata": {
        "colab": {
          "base_uri": "https://localhost:8080/",
          "height": 112
        },
        "id": "WDi1w7p6BYPl",
        "outputId": "f17ae670-3502-4327-ecfc-b5abafa0e010"
      },
      "source": [
        "dataframe1.head(2)"
      ],
      "execution_count": 17,
      "outputs": [
        {
          "output_type": "execute_result",
          "data": {
            "text/html": [
              "<div>\n",
              "<style scoped>\n",
              "    .dataframe tbody tr th:only-of-type {\n",
              "        vertical-align: middle;\n",
              "    }\n",
              "\n",
              "    .dataframe tbody tr th {\n",
              "        vertical-align: top;\n",
              "    }\n",
              "\n",
              "    .dataframe thead th {\n",
              "        text-align: right;\n",
              "    }\n",
              "</style>\n",
              "<table border=\"1\" class=\"dataframe\">\n",
              "  <thead>\n",
              "    <tr style=\"text-align: right;\">\n",
              "      <th></th>\n",
              "      <th>age</th>\n",
              "      <th>gender</th>\n",
              "      <th>bmi</th>\n",
              "      <th>children</th>\n",
              "      <th>smoker</th>\n",
              "      <th>region</th>\n",
              "      <th>expenses</th>\n",
              "    </tr>\n",
              "  </thead>\n",
              "  <tbody>\n",
              "    <tr>\n",
              "      <th>0</th>\n",
              "      <td>19</td>\n",
              "      <td>female</td>\n",
              "      <td>27.9</td>\n",
              "      <td>0</td>\n",
              "      <td>yes</td>\n",
              "      <td>southwest</td>\n",
              "      <td>16884.92</td>\n",
              "    </tr>\n",
              "    <tr>\n",
              "      <th>1</th>\n",
              "      <td>18</td>\n",
              "      <td>male</td>\n",
              "      <td>33.8</td>\n",
              "      <td>1</td>\n",
              "      <td>no</td>\n",
              "      <td>southeast</td>\n",
              "      <td>1725.55</td>\n",
              "    </tr>\n",
              "  </tbody>\n",
              "</table>\n",
              "</div>"
            ],
            "text/plain": [
              "   age  gender   bmi  children smoker     region  expenses\n",
              "0   19  female  27.9         0    yes  southwest  16884.92\n",
              "1   18    male  33.8         1     no  southeast   1725.55"
            ]
          },
          "metadata": {},
          "execution_count": 17
        }
      ]
    },
    {
      "cell_type": "code",
      "metadata": {
        "colab": {
          "base_uri": "https://localhost:8080/"
        },
        "id": "avOyghZkBeCc",
        "outputId": "42a4873c-4700-455c-a80a-e3c980f33cc5"
      },
      "source": [
        "#Counting how many females and males are there\n",
        "dataframe1['gender'].value_counts()"
      ],
      "execution_count": 20,
      "outputs": [
        {
          "output_type": "execute_result",
          "data": {
            "text/plain": [
              "male      675\n",
              "female    662\n",
              "Name: gender, dtype: int64"
            ]
          },
          "metadata": {},
          "execution_count": 20
        }
      ]
    },
    {
      "cell_type": "markdown",
      "metadata": {
        "id": "MfeJxAXpBt0v"
      },
      "source": [
        "There are 675 males and 662 *females*"
      ]
    },
    {
      "cell_type": "markdown",
      "metadata": {
        "id": "uK5O70XTKJ1L"
      },
      "source": [
        "**Making some plots**"
      ]
    },
    {
      "cell_type": "markdown",
      "metadata": {
        "id": "YGPcF_XpQTvs"
      },
      "source": [
        "***Plot between age and count***"
      ]
    },
    {
      "cell_type": "code",
      "metadata": {
        "colab": {
          "base_uri": "https://localhost:8080/",
          "height": 539
        },
        "id": "hjGrCNwgOHOV",
        "outputId": "3a750088-43e1-4e88-bdc0-0d9491dd88f2"
      },
      "source": [
        "plt.figure(figsize = (14,8))\n",
        "p= sns.countplot(x=\"age\",data=dataframe1,palette='hls')\n",
        "p.set_title(\"Age Groups\", fontsize=19)\n",
        "p.set_ylabel(\"Count\", fontsize=19)\n",
        "p.set_xlabel(\"Age\", fontsize=14)\n"
      ],
      "execution_count": 31,
      "outputs": [
        {
          "output_type": "execute_result",
          "data": {
            "text/plain": [
              "Text(0.5, 0, 'Age')"
            ]
          },
          "metadata": {},
          "execution_count": 31
        },
        {
          "output_type": "display_data",
          "data": {
            "image/png": "[encoded data removed]",
            "text/plain": [
              "<Figure size 1008x576 with 1 Axes>"
            ]
          },
          "metadata": {
            "needs_background": "light"
          }
        }
      ]
    },
    {
      "cell_type": "markdown",
      "metadata": {
        "id": "QP208cmJQwXd"
      },
      "source": [
        "***Plot of different regions***"
      ]
    },
    {
      "cell_type": "code",
      "metadata": {
        "colab": {
          "base_uri": "https://localhost:8080/",
          "height": 320
        },
        "id": "4ydOW9wSOhr-",
        "outputId": "ac60cfda-00ed-423a-a8db-9d9b17836945"
      },
      "source": [
        "plt.figure(figsize = (7,5))\n",
        "dataframe1.region.value_counts().plot(kind=\"pie\")"
      ],
      "execution_count": 37,
      "outputs": [
        {
          "output_type": "execute_result",
          "data": {
            "text/plain": [
              "<matplotlib.axes._subplots.AxesSubplot at 0x7ff3cd727a50>"
            ]
          },
          "metadata": {},
          "execution_count": 37
        },
        {
          "output_type": "display_data",
          "data": {
            "image/png": "[encoded data removed]",
            "text/plain": [
              "<Figure size 504x360 with 1 Axes>"
            ]
          },
          "metadata": {}
        }
      ]
    },
    {
      "cell_type": "markdown",
      "metadata": {
        "id": "OgJYfwvTQ6Nx"
      },
      "source": [
        "***Plot of smokers***"
      ]
    },
    {
      "cell_type": "code",
      "metadata": {
        "colab": {
          "base_uri": "https://localhost:8080/",
          "height": 320
        },
        "id": "bIojML_OO4FU",
        "outputId": "17a0e335-6909-427e-f0d2-bcd433d74d60"
      },
      "source": [
        "plt.figure(figsize = (7,5))\n",
        "dataframe1.smoker.value_counts().plot(kind=\"pie\")"
      ],
      "execution_count": 38,
      "outputs": [
        {
          "output_type": "execute_result",
          "data": {
            "text/plain": [
              "<matplotlib.axes._subplots.AxesSubplot at 0x7ff3cd6efd90>"
            ]
          },
          "metadata": {},
          "execution_count": 38
        },
        {
          "output_type": "display_data",
          "data": {
            "image/png": "[encoded data removed]",
            "text/plain": [
              "<Figure size 504x360 with 1 Axes>"
            ]
          },
          "metadata": {}
        }
      ]
    },
    {
      "cell_type": "markdown",
      "metadata": {
        "id": "0HlV9Q-vRAjS"
      },
      "source": [
        "***Plot of gender***"
      ]
    },
    {
      "cell_type": "code",
      "metadata": {
        "colab": {
          "base_uri": "https://localhost:8080/",
          "height": 320
        },
        "id": "CPLUQjUaO807",
        "outputId": "21823eef-a7f8-4ed2-f196-ba5559fde367"
      },
      "source": [
        "plt.figure(figsize = (7,5))\n",
        "dataframe1.gender.value_counts().plot(kind=\"pie\")"
      ],
      "execution_count": 39,
      "outputs": [
        {
          "output_type": "execute_result",
          "data": {
            "text/plain": [
              "<matplotlib.axes._subplots.AxesSubplot at 0x7ff3cd6bc690>"
            ]
          },
          "metadata": {},
          "execution_count": 39
        },
        {
          "output_type": "display_data",
          "data": {
            "image/png": "[encoded data removed]",
            "text/plain": [
              "<Figure size 504x360 with 1 Axes>"
            ]
          },
          "metadata": {}
        }
      ]
    },
    {
      "cell_type": "markdown",
      "metadata": {
        "id": "YugmPx7XRGGV"
      },
      "source": [
        "***Plot of count of children***"
      ]
    },
    {
      "cell_type": "code",
      "metadata": {
        "colab": {
          "base_uri": "https://localhost:8080/",
          "height": 320
        },
        "id": "iDjNf5UcPBkj",
        "outputId": "33a63591-2fd5-4181-c629-d28e1b317bac"
      },
      "source": [
        "plt.figure(figsize = (7,5))\n",
        "dataframe1.children.value_counts().plot(kind=\"pie\")"
      ],
      "execution_count": 40,
      "outputs": [
        {
          "output_type": "execute_result",
          "data": {
            "text/plain": [
              "<matplotlib.axes._subplots.AxesSubplot at 0x7ff3cd688550>"
            ]
          },
          "metadata": {},
          "execution_count": 40
        },
        {
          "output_type": "display_data",
          "data": {
            "image/png": "[encoded data removed]",
            "text/plain": [
              "<Figure size 504x360 with 1 Axes>"
            ]
          },
          "metadata": {}
        }
      ]
    },
    {
      "cell_type": "markdown",
      "metadata": {
        "id": "bzygrbu3RQR-"
      },
      "source": [
        "***Correlation Heatmap of the Dataframe***"
      ]
    },
    {
      "cell_type": "code",
      "metadata": {
        "colab": {
          "base_uri": "https://localhost:8080/",
          "height": 324
        },
        "id": "GjnQQDfQPqDx",
        "outputId": "12e06c93-82f9-485f-9b8b-523bf45ea7a5"
      },
      "source": [
        "plt.figure(figsize=(11,5))\n",
        "corr = dataframe1.corr()\n",
        "ax = sns.heatmap(corr,annot=True)"
      ],
      "execution_count": 42,
      "outputs": [
        {
          "output_type": "display_data",
          "data": {
            "image/png": "[encoded data removed]",
            "text/plain": [
              "<Figure size 792x360 with 2 Axes>"
            ]
          },
          "metadata": {
            "needs_background": "light"
          }
        }
      ]
    },
    {
      "cell_type": "markdown",
      "metadata": {
        "id": "UInjvjEBRmjv"
      },
      "source": [
        "From the above correlation and covariance values we see that there exist strong relationship between expenses. AGE (0.3) and BMI(0.2) for numerical variables"
      ]
    },
    {
      "cell_type": "markdown",
      "metadata": {
        "id": "W8RIeRYlSINf"
      },
      "source": [
        "***Relation between bmi and expenses***"
      ]
    },
    {
      "cell_type": "code",
      "metadata": {
        "colab": {
          "base_uri": "https://localhost:8080/",
          "height": 514
        },
        "id": "nrl2hCBQR5Lh",
        "outputId": "194e31af-4aad-4ba4-fa42-a1799254ee55"
      },
      "source": [
        "plt.figure(figsize=(12,8))\n",
        "sns.regplot(x=dataframe1['bmi'], y=dataframe1['expenses'], color=\"green\")"
      ],
      "execution_count": 47,
      "outputs": [
        {
          "output_type": "execute_result",
          "data": {
            "text/plain": [
              "<matplotlib.axes._subplots.AxesSubplot at 0x7ff3c4ac5290>"
            ]
          },
          "metadata": {},
          "execution_count": 47
        },
        {
          "output_type": "display_data",
          "data": {
            "image/png": "[encoded data removed]",
            "text/plain": [
              "<Figure size 864x576 with 1 Axes>"
            ]
          },
          "metadata": {
            "needs_background": "light"
          }
        }
      ]
    },
    {
      "cell_type": "markdown",
      "metadata": {
        "id": "EIFyAVPzUzg_"
      },
      "source": [
        "From the above plot we conclude that bmi and expenses are positively correlated."
      ]
    },
    {
      "cell_type": "markdown",
      "metadata": {
        "id": "Iy53rOmoTwP5"
      },
      "source": [
        "***Relation between age and expenses***"
      ]
    },
    {
      "cell_type": "code",
      "metadata": {
        "colab": {
          "base_uri": "https://localhost:8080/",
          "height": 514
        },
        "id": "vDJ5qCleTvNr",
        "outputId": "95e668bf-603c-433c-a60c-27a2f7fd3aac"
      },
      "source": [
        "plt.figure(figsize=(10,8))\n",
        "sns.stripplot(x=dataframe1['age'], y=dataframe1['expenses'])"
      ],
      "execution_count": 52,
      "outputs": [
        {
          "output_type": "execute_result",
          "data": {
            "text/plain": [
              "<matplotlib.axes._subplots.AxesSubplot at 0x7ff3c490b590>"
            ]
          },
          "metadata": {},
          "execution_count": 52
        },
        {
          "output_type": "display_data",
          "data": {
            "image/png": "[encoded data removed]",
            "text/plain": [
              "<Figure size 720x576 with 1 Axes>"
            ]
          },
          "metadata": {
            "needs_background": "light"
          }
        }
      ]
    },
    {
      "cell_type": "markdown",
      "metadata": {
        "id": "aiIBbPC9Vchm"
      },
      "source": [
        "***Relation between smoker and expenses.***   We see that non smokers pay less smokers."
      ]
    },
    {
      "cell_type": "code",
      "metadata": {
        "colab": {
          "base_uri": "https://localhost:8080/",
          "height": 514
        },
        "id": "h1EAtgOLVc8S",
        "outputId": "0b3f24c9-8b91-47c2-c6cb-36cbef5a5e98"
      },
      "source": [
        "plt.figure(figsize=(10,8))\n",
        "sns.stripplot(x=dataframe1['smoker'], y=dataframe1['expenses'])"
      ],
      "execution_count": 53,
      "outputs": [
        {
          "output_type": "execute_result",
          "data": {
            "text/plain": [
              "<matplotlib.axes._subplots.AxesSubplot at 0x7ff3cd8fff10>"
            ]
          },
          "metadata": {},
          "execution_count": 53
        },
        {
          "output_type": "display_data",
          "data": {
            "image/png": "[encoded data removed]",
            "text/plain": [
              "<Figure size 720x576 with 1 Axes>"
            ]
          },
          "metadata": {
            "needs_background": "light"
          }
        }
      ]
    },
    {
      "cell_type": "markdown",
      "metadata": {
        "id": "vzWcpzifYhdW"
      },
      "source": [
        "***Use One Hot Encoding For Gender***"
      ]
    },
    {
      "cell_type": "code",
      "metadata": {
        "colab": {
          "base_uri": "https://localhost:8080/",
          "height": 206
        },
        "id": "wN5xZOaJYnVY",
        "outputId": "f7a34aa9-fac7-4ae6-9705-859214de0193"
      },
      "source": [
        "dummy = pd.get_dummies(dataframe1.gender)\n",
        "dataframe2 = pd.concat([dataframe1,dummy],axis='columns')\n",
        "dataframe2.drop(columns='gender',inplace=True)\n",
        "dataframe2.head()"
      ],
      "execution_count": 61,
      "outputs": [
        {
          "output_type": "execute_result",
          "data": {
            "text/html": [
              "<div>\n",
              "<style scoped>\n",
              "    .dataframe tbody tr th:only-of-type {\n",
              "        vertical-align: middle;\n",
              "    }\n",
              "\n",
              "    .dataframe tbody tr th {\n",
              "        vertical-align: top;\n",
              "    }\n",
              "\n",
              "    .dataframe thead th {\n",
              "        text-align: right;\n",
              "    }\n",
              "</style>\n",
              "<table border=\"1\" class=\"dataframe\">\n",
              "  <thead>\n",
              "    <tr style=\"text-align: right;\">\n",
              "      <th></th>\n",
              "      <th>age</th>\n",
              "      <th>bmi</th>\n",
              "      <th>children</th>\n",
              "      <th>smoker</th>\n",
              "      <th>region</th>\n",
              "      <th>expenses</th>\n",
              "      <th>female</th>\n",
              "      <th>male</th>\n",
              "    </tr>\n",
              "  </thead>\n",
              "  <tbody>\n",
              "    <tr>\n",
              "      <th>0</th>\n",
              "      <td>19</td>\n",
              "      <td>27.9</td>\n",
              "      <td>0</td>\n",
              "      <td>yes</td>\n",
              "      <td>southwest</td>\n",
              "      <td>16884.92</td>\n",
              "      <td>1</td>\n",
              "      <td>0</td>\n",
              "    </tr>\n",
              "    <tr>\n",
              "      <th>1</th>\n",
              "      <td>18</td>\n",
              "      <td>33.8</td>\n",
              "      <td>1</td>\n",
              "      <td>no</td>\n",
              "      <td>southeast</td>\n",
              "      <td>1725.55</td>\n",
              "      <td>0</td>\n",
              "      <td>1</td>\n",
              "    </tr>\n",
              "    <tr>\n",
              "      <th>2</th>\n",
              "      <td>28</td>\n",
              "      <td>33.0</td>\n",
              "      <td>3</td>\n",
              "      <td>no</td>\n",
              "      <td>southeast</td>\n",
              "      <td>4449.46</td>\n",
              "      <td>0</td>\n",
              "      <td>1</td>\n",
              "    </tr>\n",
              "    <tr>\n",
              "      <th>3</th>\n",
              "      <td>33</td>\n",
              "      <td>22.7</td>\n",
              "      <td>0</td>\n",
              "      <td>no</td>\n",
              "      <td>northwest</td>\n",
              "      <td>21984.47</td>\n",
              "      <td>0</td>\n",
              "      <td>1</td>\n",
              "    </tr>\n",
              "    <tr>\n",
              "      <th>4</th>\n",
              "      <td>32</td>\n",
              "      <td>28.9</td>\n",
              "      <td>0</td>\n",
              "      <td>no</td>\n",
              "      <td>northwest</td>\n",
              "      <td>3866.86</td>\n",
              "      <td>0</td>\n",
              "      <td>1</td>\n",
              "    </tr>\n",
              "  </tbody>\n",
              "</table>\n",
              "</div>"
            ],
            "text/plain": [
              "   age   bmi  children smoker     region  expenses  female  male\n",
              "0   19  27.9         0    yes  southwest  16884.92       1     0\n",
              "1   18  33.8         1     no  southeast   1725.55       0     1\n",
              "2   28  33.0         3     no  southeast   4449.46       0     1\n",
              "3   33  22.7         0     no  northwest  21984.47       0     1\n",
              "4   32  28.9         0     no  northwest   3866.86       0     1"
            ]
          },
          "metadata": {},
          "execution_count": 61
        }
      ]
    },
    {
      "cell_type": "markdown",
      "metadata": {
        "id": "iJg_6F5GZ6zC"
      },
      "source": [
        "***Use One Hot Encoding For Smoker***"
      ]
    },
    {
      "cell_type": "code",
      "metadata": {
        "colab": {
          "base_uri": "https://localhost:8080/",
          "height": 206
        },
        "id": "u6nWkF2xaDTy",
        "outputId": "732ef3c8-5627-461c-c871-0f6f4226fbf1"
      },
      "source": [
        "dummy = pd.get_dummies(dataframe2.smoker)\n",
        "dataframe3 = pd.concat([dataframe2,dummy],axis='columns')\n",
        "dataframe3.drop(columns='smoker',inplace=True)\n",
        "dataframe3.head()"
      ],
      "execution_count": 62,
      "outputs": [
        {
          "output_type": "execute_result",
          "data": {
            "text/html": [
              "<div>\n",
              "<style scoped>\n",
              "    .dataframe tbody tr th:only-of-type {\n",
              "        vertical-align: middle;\n",
              "    }\n",
              "\n",
              "    .dataframe tbody tr th {\n",
              "        vertical-align: top;\n",
              "    }\n",
              "\n",
              "    .dataframe thead th {\n",
              "        text-align: right;\n",
              "    }\n",
              "</style>\n",
              "<table border=\"1\" class=\"dataframe\">\n",
              "  <thead>\n",
              "    <tr style=\"text-align: right;\">\n",
              "      <th></th>\n",
              "      <th>age</th>\n",
              "      <th>bmi</th>\n",
              "      <th>children</th>\n",
              "      <th>region</th>\n",
              "      <th>expenses</th>\n",
              "      <th>female</th>\n",
              "      <th>male</th>\n",
              "      <th>no</th>\n",
              "      <th>yes</th>\n",
              "    </tr>\n",
              "  </thead>\n",
              "  <tbody>\n",
              "    <tr>\n",
              "      <th>0</th>\n",
              "      <td>19</td>\n",
              "      <td>27.9</td>\n",
              "      <td>0</td>\n",
              "      <td>southwest</td>\n",
              "      <td>16884.92</td>\n",
              "      <td>1</td>\n",
              "      <td>0</td>\n",
              "      <td>0</td>\n",
              "      <td>1</td>\n",
              "    </tr>\n",
              "    <tr>\n",
              "      <th>1</th>\n",
              "      <td>18</td>\n",
              "      <td>33.8</td>\n",
              "      <td>1</td>\n",
              "      <td>southeast</td>\n",
              "      <td>1725.55</td>\n",
              "      <td>0</td>\n",
              "      <td>1</td>\n",
              "      <td>1</td>\n",
              "      <td>0</td>\n",
              "    </tr>\n",
              "    <tr>\n",
              "      <th>2</th>\n",
              "      <td>28</td>\n",
              "      <td>33.0</td>\n",
              "      <td>3</td>\n",
              "      <td>southeast</td>\n",
              "      <td>4449.46</td>\n",
              "      <td>0</td>\n",
              "      <td>1</td>\n",
              "      <td>1</td>\n",
              "      <td>0</td>\n",
              "    </tr>\n",
              "    <tr>\n",
              "      <th>3</th>\n",
              "      <td>33</td>\n",
              "      <td>22.7</td>\n",
              "      <td>0</td>\n",
              "      <td>northwest</td>\n",
              "      <td>21984.47</td>\n",
              "      <td>0</td>\n",
              "      <td>1</td>\n",
              "      <td>1</td>\n",
              "      <td>0</td>\n",
              "    </tr>\n",
              "    <tr>\n",
              "      <th>4</th>\n",
              "      <td>32</td>\n",
              "      <td>28.9</td>\n",
              "      <td>0</td>\n",
              "      <td>northwest</td>\n",
              "      <td>3866.86</td>\n",
              "      <td>0</td>\n",
              "      <td>1</td>\n",
              "      <td>1</td>\n",
              "      <td>0</td>\n",
              "    </tr>\n",
              "  </tbody>\n",
              "</table>\n",
              "</div>"
            ],
            "text/plain": [
              "   age   bmi  children     region  expenses  female  male  no  yes\n",
              "0   19  27.9         0  southwest  16884.92       1     0   0    1\n",
              "1   18  33.8         1  southeast   1725.55       0     1   1    0\n",
              "2   28  33.0         3  southeast   4449.46       0     1   1    0\n",
              "3   33  22.7         0  northwest  21984.47       0     1   1    0\n",
              "4   32  28.9         0  northwest   3866.86       0     1   1    0"
            ]
          },
          "metadata": {},
          "execution_count": 62
        }
      ]
    },
    {
      "cell_type": "markdown",
      "metadata": {
        "id": "NcrKaoILZ8Ew"
      },
      "source": [
        "***Use One Hot Encoding For Region***"
      ]
    },
    {
      "cell_type": "code",
      "metadata": {
        "colab": {
          "base_uri": "https://localhost:8080/",
          "height": 206
        },
        "id": "uq4dPJ1waQEf",
        "outputId": "ee79ecca-a1fd-47e9-8304-73cb1b5f3baa"
      },
      "source": [
        "dummy = pd.get_dummies(dataframe3.region)\n",
        "dataframe4 = pd.concat([dataframe3,dummy],axis='columns')\n",
        "dataframe4.drop(columns='region',inplace=True)\n",
        "dataframe4.head()"
      ],
      "execution_count": 63,
      "outputs": [
        {
          "output_type": "execute_result",
          "data": {
            "text/html": [
              "<div>\n",
              "<style scoped>\n",
              "    .dataframe tbody tr th:only-of-type {\n",
              "        vertical-align: middle;\n",
              "    }\n",
              "\n",
              "    .dataframe tbody tr th {\n",
              "        vertical-align: top;\n",
              "    }\n",
              "\n",
              "    .dataframe thead th {\n",
              "        text-align: right;\n",
              "    }\n",
              "</style>\n",
              "<table border=\"1\" class=\"dataframe\">\n",
              "  <thead>\n",
              "    <tr style=\"text-align: right;\">\n",
              "      <th></th>\n",
              "      <th>age</th>\n",
              "      <th>bmi</th>\n",
              "      <th>children</th>\n",
              "      <th>expenses</th>\n",
              "      <th>female</th>\n",
              "      <th>male</th>\n",
              "      <th>no</th>\n",
              "      <th>yes</th>\n",
              "      <th>northeast</th>\n",
              "      <th>northwest</th>\n",
              "      <th>southeast</th>\n",
              "      <th>southwest</th>\n",
              "    </tr>\n",
              "  </thead>\n",
              "  <tbody>\n",
              "    <tr>\n",
              "      <th>0</th>\n",
              "      <td>19</td>\n",
              "      <td>27.9</td>\n",
              "      <td>0</td>\n",
              "      <td>16884.92</td>\n",
              "      <td>1</td>\n",
              "      <td>0</td>\n",
              "      <td>0</td>\n",
              "      <td>1</td>\n",
              "      <td>0</td>\n",
              "      <td>0</td>\n",
              "      <td>0</td>\n",
              "      <td>1</td>\n",
              "    </tr>\n",
              "    <tr>\n",
              "      <th>1</th>\n",
              "      <td>18</td>\n",
              "      <td>33.8</td>\n",
              "      <td>1</td>\n",
              "      <td>1725.55</td>\n",
              "      <td>0</td>\n",
              "      <td>1</td>\n",
              "      <td>1</td>\n",
              "      <td>0</td>\n",
              "      <td>0</td>\n",
              "      <td>0</td>\n",
              "      <td>1</td>\n",
              "      <td>0</td>\n",
              "    </tr>\n",
              "    <tr>\n",
              "      <th>2</th>\n",
              "      <td>28</td>\n",
              "      <td>33.0</td>\n",
              "      <td>3</td>\n",
              "      <td>4449.46</td>\n",
              "      <td>0</td>\n",
              "      <td>1</td>\n",
              "      <td>1</td>\n",
              "      <td>0</td>\n",
              "      <td>0</td>\n",
              "      <td>0</td>\n",
              "      <td>1</td>\n",
              "      <td>0</td>\n",
              "    </tr>\n",
              "    <tr>\n",
              "      <th>3</th>\n",
              "      <td>33</td>\n",
              "      <td>22.7</td>\n",
              "      <td>0</td>\n",
              "      <td>21984.47</td>\n",
              "      <td>0</td>\n",
              "      <td>1</td>\n",
              "      <td>1</td>\n",
              "      <td>0</td>\n",
              "      <td>0</td>\n",
              "      <td>1</td>\n",
              "      <td>0</td>\n",
              "      <td>0</td>\n",
              "    </tr>\n",
              "    <tr>\n",
              "      <th>4</th>\n",
              "      <td>32</td>\n",
              "      <td>28.9</td>\n",
              "      <td>0</td>\n",
              "      <td>3866.86</td>\n",
              "      <td>0</td>\n",
              "      <td>1</td>\n",
              "      <td>1</td>\n",
              "      <td>0</td>\n",
              "      <td>0</td>\n",
              "      <td>1</td>\n",
              "      <td>0</td>\n",
              "      <td>0</td>\n",
              "    </tr>\n",
              "  </tbody>\n",
              "</table>\n",
              "</div>"
            ],
            "text/plain": [
              "   age   bmi  children  expenses  ...  northeast  northwest  southeast  southwest\n",
              "0   19  27.9         0  16884.92  ...          0          0          0          1\n",
              "1   18  33.8         1   1725.55  ...          0          0          1          0\n",
              "2   28  33.0         3   4449.46  ...          0          0          1          0\n",
              "3   33  22.7         0  21984.47  ...          0          1          0          0\n",
              "4   32  28.9         0   3866.86  ...          0          1          0          0\n",
              "\n",
              "[5 rows x 12 columns]"
            ]
          },
          "metadata": {},
          "execution_count": 63
        }
      ]
    },
    {
      "cell_type": "markdown",
      "metadata": {
        "id": "0Pj-yWWQagSR"
      },
      "source": [
        "**Changing column names of yes and no to smoke_yes and smoke_no respectively**"
      ]
    },
    {
      "cell_type": "code",
      "metadata": {
        "colab": {
          "base_uri": "https://localhost:8080/",
          "height": 112
        },
        "id": "ThsKViXLao-q",
        "outputId": "5c658c96-8a3d-47fd-9372-dace013fa0b7"
      },
      "source": [
        "dataframe4.rename(columns={'yes':'smoke_yes','no':'smoke_no'},inplace=True,level=None)\n",
        "dataframe4.head(2)"
      ],
      "execution_count": 65,
      "outputs": [
        {
          "output_type": "execute_result",
          "data": {
            "text/html": [
              "<div>\n",
              "<style scoped>\n",
              "    .dataframe tbody tr th:only-of-type {\n",
              "        vertical-align: middle;\n",
              "    }\n",
              "\n",
              "    .dataframe tbody tr th {\n",
              "        vertical-align: top;\n",
              "    }\n",
              "\n",
              "    .dataframe thead th {\n",
              "        text-align: right;\n",
              "    }\n",
              "</style>\n",
              "<table border=\"1\" class=\"dataframe\">\n",
              "  <thead>\n",
              "    <tr style=\"text-align: right;\">\n",
              "      <th></th>\n",
              "      <th>age</th>\n",
              "      <th>bmi</th>\n",
              "      <th>children</th>\n",
              "      <th>expenses</th>\n",
              "      <th>female</th>\n",
              "      <th>male</th>\n",
              "      <th>smoke_no</th>\n",
              "      <th>smoke_yes</th>\n",
              "      <th>northeast</th>\n",
              "      <th>northwest</th>\n",
              "      <th>southeast</th>\n",
              "      <th>southwest</th>\n",
              "    </tr>\n",
              "  </thead>\n",
              "  <tbody>\n",
              "    <tr>\n",
              "      <th>0</th>\n",
              "      <td>19</td>\n",
              "      <td>27.9</td>\n",
              "      <td>0</td>\n",
              "      <td>16884.92</td>\n",
              "      <td>1</td>\n",
              "      <td>0</td>\n",
              "      <td>0</td>\n",
              "      <td>1</td>\n",
              "      <td>0</td>\n",
              "      <td>0</td>\n",
              "      <td>0</td>\n",
              "      <td>1</td>\n",
              "    </tr>\n",
              "    <tr>\n",
              "      <th>1</th>\n",
              "      <td>18</td>\n",
              "      <td>33.8</td>\n",
              "      <td>1</td>\n",
              "      <td>1725.55</td>\n",
              "      <td>0</td>\n",
              "      <td>1</td>\n",
              "      <td>1</td>\n",
              "      <td>0</td>\n",
              "      <td>0</td>\n",
              "      <td>0</td>\n",
              "      <td>1</td>\n",
              "      <td>0</td>\n",
              "    </tr>\n",
              "  </tbody>\n",
              "</table>\n",
              "</div>"
            ],
            "text/plain": [
              "   age   bmi  children  expenses  ...  northeast  northwest  southeast  southwest\n",
              "0   19  27.9         0  16884.92  ...          0          0          0          1\n",
              "1   18  33.8         1   1725.55  ...          0          0          1          0\n",
              "\n",
              "[2 rows x 12 columns]"
            ]
          },
          "metadata": {},
          "execution_count": 65
        }
      ]
    },
    {
      "cell_type": "markdown",
      "metadata": {
        "id": "v_EHQEGObQ7Y"
      },
      "source": [
        "**Now making the linear regression model**"
      ]
    },
    {
      "cell_type": "code",
      "metadata": {
        "id": "yy1sH93IbWv6"
      },
      "source": [
        "from sklearn.linear_model import LinearRegression\n",
        "from sklearn.model_selection import train_test_split\n",
        "from sklearn.metrics import mean_absolute_error, mean_squared_error,r2_score"
      ],
      "execution_count": 66,
      "outputs": []
    },
    {
      "cell_type": "code",
      "metadata": {
        "id": "73SoLAzBb1WS"
      },
      "source": [
        "X = dataframe4.drop(['expenses'],axis='columns')\n",
        "y = dataframe4.expenses"
      ],
      "execution_count": 68,
      "outputs": []
    },
    {
      "cell_type": "code",
      "metadata": {
        "id": "D6a1N034be9L"
      },
      "source": [
        "train_X, test_X, train_y, test_y = train_test_split(X,y,test_size=0.2,random_state=10)"
      ],
      "execution_count": 69,
      "outputs": []
    },
    {
      "cell_type": "code",
      "metadata": {
        "colab": {
          "base_uri": "https://localhost:8080/"
        },
        "id": "x-yWrlU2cG7w",
        "outputId": "6845dbab-14e1-4f83-b311-1b3e9ce6610b"
      },
      "source": [
        "model = LinearRegression()\n",
        "model.fit(train_X,train_y)"
      ],
      "execution_count": 70,
      "outputs": [
        {
          "output_type": "execute_result",
          "data": {
            "text/plain": [
              "LinearRegression()"
            ]
          },
          "metadata": {},
          "execution_count": 70
        }
      ]
    },
    {
      "cell_type": "code",
      "metadata": {
        "colab": {
          "base_uri": "https://localhost:8080/"
        },
        "id": "xe6u9M_Oc_f3",
        "outputId": "34554d65-0121-4496-f920-5f09f5b74405"
      },
      "source": [
        "# Predicting the Test set results\n",
        "y_pred=model.predict(test_X)\n",
        "y_pred"
      ],
      "execution_count": 72,
      "outputs": [
        {
          "output_type": "execute_result",
          "data": {
            "text/plain": [
              "array([ 4350.90969718,  4396.04059607, 11931.3217768 , 12103.97154052,\n",
              "       33695.43591397,  5716.75459111, 11635.75367889,  3391.07136792,\n",
              "       38082.49043171, 15775.28932758, 10021.08963359,  3278.70544043,\n",
              "        4534.30887247, 30289.23803843, 34330.29750662, 30347.64362886,\n",
              "        5694.74219396,  9063.39507992,  6515.87154428,  5846.19770172,\n",
              "       28124.97194722,  9689.7805115 , 27837.26416304,  8385.91958912,\n",
              "        6509.23972044,  4161.74021941, 32754.75106601,  8648.94625281,\n",
              "        6458.44449733,  7268.02162289,  8158.84323698, 10915.45680863,\n",
              "       11667.96714858,  9411.35845142,  8245.62428202, 10790.12022025,\n",
              "       14614.16399783,  8582.88750016, 13905.163809  , 11083.0895812 ,\n",
              "        1266.37731863, 30761.89899588,  5435.81046602,  1992.3352765 ,\n",
              "       10832.90309884, 14528.34346819, 13462.15628801, 36369.1487258 ,\n",
              "       34737.27103825,   951.34040889, 11866.19179842, 14249.02387324,\n",
              "        9036.26047187, 37094.66219874, 12742.2196791 , 10381.48799427,\n",
              "        4348.098393  ,  7690.24761857,  4967.2108011 , 12511.01126766,\n",
              "        8139.1064723 , 34048.80291832, 10454.99703007, 12791.23592748,\n",
              "        9096.15581948, 15588.30534123,  3719.69321382,  4072.71959807,\n",
              "        -760.15050823, 15180.77757714, 27384.96202167, 14374.75299675,\n",
              "        2183.1397825 ,  1889.61672175, 34268.04907443, 11212.71970033,\n",
              "        6839.70911852,   138.9764588 , 15898.09739937,  4570.94419492,\n",
              "       29182.22476836, 16852.60097215, 14788.40006808, 14954.97277691,\n",
              "       26566.64397554,  7115.0063932 , 10624.64633527, 37359.13582472,\n",
              "       12678.0682442 ,  5370.3202263 ,  5459.60854486, 13563.73430307,\n",
              "       12998.3602575 , 11887.36585885,  4093.59145553, 26702.63927869,\n",
              "        9265.30280725,  4289.73531031,  7915.39595569, 36581.48938126,\n",
              "        1966.79534649, 30013.00470639,  4286.1865344 ,  6766.07926969,\n",
              "       18147.49224958,  9082.18935729,  3041.95296351,  1886.63967373,\n",
              "       10685.81022406,  2274.4088758 , 38858.55267358, 13404.42518878,\n",
              "       13554.03314435,  2235.39783842, 35620.59503477,  3704.98016911,\n",
              "        8496.50975686,  8345.62949085, 11256.93686394,  2488.61652045,\n",
              "        1507.01008076, 35909.4142867 ,  6390.75071646, 11461.81059544,\n",
              "        5972.67857742,  2793.25300173,  9661.61436588, 28827.62955138,\n",
              "       11360.38214544,  8477.73916725, 10765.75658784, 12575.18073064,\n",
              "       15007.59430915,  8135.45491145, 31971.3447965 , 34841.796795  ,\n",
              "       12449.86967933, 10486.70873663, 12433.47343899, 13928.55213453,\n",
              "       13586.74893146,  9879.59059352,  3610.46281671, 11262.75267317,\n",
              "        4668.80015961,  4678.73677152,  8334.44985319, 13410.78205391,\n",
              "       34903.82946663, 38707.72295695,  -825.06067955,  5347.27413402,\n",
              "       11773.57744873,  2273.68943215,  5092.1120991 ,  7791.12183611,\n",
              "       13791.8564516 , 12351.10995269, 40032.98015189,  7471.04639328,\n",
              "       10050.61582709,  2133.85234466, 33884.23870047, 12354.27828162,\n",
              "       31393.34605292, 12195.36089255, 29167.58057837,  8164.30982872,\n",
              "        1014.16785207, 11584.07139737, 32671.3326199 ,  1921.46995173,\n",
              "       37159.02188522,  2930.78378477,  3209.1608924 , 11118.03904879,\n",
              "       11414.85017245, 33415.16630171, 35817.35042184,  9618.67624153,\n",
              "       15587.91685261,  7472.9601626 , 10315.28073397, 33049.26209918,\n",
              "        2661.52482973,  2530.67993376,  1221.79045301, 28189.18636265,\n",
              "       24621.84386914,  6029.40986848,  4157.01109939,  9995.75901258,\n",
              "        7827.26965425,   375.91594424,  8632.23470356, 32586.85787931,\n",
              "       15024.01179255,  7272.44669061, 27711.13465241,  5822.50210893,\n",
              "       32440.61492774,  5129.59412979,  9809.85903697,  -426.84234895,\n",
              "        6785.0425275 ,  9210.74221613,  6371.95643909, 14933.07742353,\n",
              "        9477.87542367,  1183.24459784, 30965.48853157, 36324.28633406,\n",
              "        5335.55616542, 25869.56002044, 37636.53115227,  1439.26114825,\n",
              "       10322.76709494,  5876.94190865, 13946.02242019,  9317.56729311,\n",
              "       11440.83080501,  7185.20742597,  9387.78635397, 25921.99348674,\n",
              "       15492.87593973, 30097.476232  ,  3600.95992312,  5167.94870405,\n",
              "       11031.67178194, 11426.63433655,  6781.36972359,  5190.33156174,\n",
              "       12790.15864557, 11124.66763603, 10798.94860102, 11545.08160305,\n",
              "        8328.66150098, 12139.74106924,  9738.63450827, -1526.10128357,\n",
              "       10464.7684308 , 31259.85506395, 11029.38350558, 14770.8450472 ,\n",
              "        5387.37295138, 12262.66912252, 10790.72125447,  9525.36262211,\n",
              "        7484.63456604, 32085.63820636,  7919.04749491, 10887.84519436,\n",
              "        6914.87442561,  7610.82566991, 12227.86737068, 11575.93180989,\n",
              "        5832.39700499,  2943.42947022,  9020.27426208,  8371.75057768,\n",
              "       16122.7471667 , 12686.18658862,  1932.79913282,  1515.66948109,\n",
              "       40055.70877771, 11322.21455807,  6402.36966938,  8648.56474841])"
            ]
          },
          "metadata": {},
          "execution_count": 72
        }
      ]
    },
    {
      "cell_type": "code",
      "metadata": {
        "colab": {
          "base_uri": "https://localhost:8080/"
        },
        "id": "Qv4MK7XudOhI",
        "outputId": "c7bfe273-ce45-4493-fa92-76a3275b41e2"
      },
      "source": [
        "#Rsquared value\n",
        "r2_score(test_y,y_pred)"
      ],
      "execution_count": 73,
      "outputs": [
        {
          "output_type": "execute_result",
          "data": {
            "text/plain": [
              "0.734226975381151"
            ]
          },
          "metadata": {},
          "execution_count": 73
        }
      ]
    },
    {
      "cell_type": "markdown",
      "metadata": {
        "id": "5JXTna5UehNp"
      },
      "source": [
        "**Export the tested model to a pickle file**"
      ]
    },
    {
      "cell_type": "code",
      "metadata": {
        "id": "61WGu-Ltelxt"
      },
      "source": [
        "import pickle\n",
        "with open('insurance_premium_prediction_model.pickle','wb') as f:\n",
        "    pickle.dump(model,f)"
      ],
      "execution_count": 75,
      "outputs": []
    }
  ]
}